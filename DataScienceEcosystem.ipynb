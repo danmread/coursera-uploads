{
 "cells": [
  {
   "cell_type": "markdown",
   "id": "335e0adf-804a-440a-8343-f5e925a85096",
   "metadata": {},
   "source": [
    "# Data Science Tools and Ecosystem"
   ]
  },
  {
   "cell_type": "markdown",
   "id": "da1ac96b-e626-4a46-8826-ac7193202cb8",
   "metadata": {},
   "source": [
    "In this notebook, Data Science Tools and Ecosystem are summarized."
   ]
  },
  {
   "cell_type": "markdown",
   "id": "bc4b969c-8803-43f7-b67e-dc90cb8300c5",
   "metadata": {},
   "source": [
    "Objectives:\n",
    "* List popular languages for data science\n",
    "* List commonly used libraries for data science\n",
    "* Create a table of data science tools\n",
    "* Create and run arithmetic expressions in Python"
   ]
  },
  {
   "cell_type": "markdown",
   "id": "b4126441-3814-4e9b-84c2-670902026452",
   "metadata": {},
   "source": [
    "Some of the popular languages that Data Scientists use are:\n",
    "1. Python\n",
    "2. R\n",
    "3. Scala\n",
    "4. Julia"
   ]
  },
  {
   "cell_type": "markdown",
   "id": "a84690f7-0d1c-4e11-9240-57d6efa023db",
   "metadata": {},
   "source": [
    "Some of the commonly used libraries used by Data Scientists include:\n",
    "1. pandas\n",
    "2. matplotlib\n",
    "3. pytorch\n",
    "4. tensorflow"
   ]
  },
  {
   "cell_type": "markdown",
   "id": "fc6e687d-b33f-4917-88bd-95c94372391f",
   "metadata": {},
   "source": [
    "| Data Science Tools |\n",
    "|--------------------|\n",
    "| JupyterLabs        |\n",
    "| JupyterNotebooks   |\n",
    "| Visual Studio Code |\n",
    "| RStudio            |\n"
   ]
  },
  {
   "cell_type": "markdown",
   "id": "d1cf5687-c8c0-42ac-94b0-b69e6f5a75d1",
   "metadata": {},
   "source": [
    "### Below are a few examples of evaluating arithmetic expressions in Python"
   ]
  },
  {
   "cell_type": "code",
   "execution_count": 1,
   "id": "4fbba8f1-f44f-48ef-b363-a2736e86d78e",
   "metadata": {
    "tags": []
   },
   "outputs": [
    {
     "data": {
      "text/plain": [
       "17"
      ]
     },
     "execution_count": 1,
     "metadata": {},
     "output_type": "execute_result"
    }
   ],
   "source": [
    "# This a simple arithmetic expression to mutiply then add integers\n",
    "(3*4)+5"
   ]
  },
  {
   "cell_type": "code",
   "execution_count": 2,
   "id": "21b9c1ee-c8df-4a29-ae53-1469b6db4f85",
   "metadata": {
    "tags": []
   },
   "outputs": [
    {
     "name": "stdout",
     "output_type": "stream",
     "text": [
      "3.3333333333333335\n"
     ]
    }
   ],
   "source": [
    "# This will convert 200 minutes to hours by diving by 60\n",
    "minutes = 200\n",
    "hours = minutes / 60\n",
    "print(hours)"
   ]
  },
  {
   "cell_type": "markdown",
   "id": "30c2cd9a-4bba-41a1-9fd8-ed82ab12ec24",
   "metadata": {},
   "source": [
    "## Author\n",
    "Daniel Read"
   ]
  }
 ],
 "metadata": {
  "kernelspec": {
   "display_name": "Python",
   "language": "python",
   "name": "conda-env-python-py"
  },
  "language_info": {
   "codemirror_mode": {
    "name": "ipython",
    "version": 3
   },
   "file_extension": ".py",
   "mimetype": "text/x-python",
   "name": "python",
   "nbconvert_exporter": "python",
   "pygments_lexer": "ipython3",
   "version": "3.7.12"
  }
 },
 "nbformat": 4,
 "nbformat_minor": 5
}
